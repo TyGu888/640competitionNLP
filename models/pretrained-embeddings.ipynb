{
 "cells": [
  {
   "cell_type": "markdown",
   "id": "66cb0113",
   "metadata": {
    "_cell_guid": "b1076dfc-b9ad-4769-8c92-a6c4dae69d19",
    "_uuid": "8f2839f25d086af736a60e9eeb907d3b93b6e0e5",
    "papermill": {
     "duration": 0.007532,
     "end_time": "2022-11-15T22:59:47.284315",
     "exception": false,
     "start_time": "2022-11-15T22:59:47.276783",
     "status": "completed"
    },
    "tags": []
   },
   "source": [
    "# Pretrained Embeddings"
   ]
  },
  {
   "cell_type": "markdown",
   "id": "62989d16",
   "metadata": {
    "papermill": {
     "duration": 0.005868,
     "end_time": "2022-11-15T22:59:47.296433",
     "exception": false,
     "start_time": "2022-11-15T22:59:47.290565",
     "status": "completed"
    },
    "tags": []
   },
   "source": [
    "## Load libraries"
   ]
  },
  {
   "cell_type": "code",
   "execution_count": 1,
   "id": "eb735cb1",
   "metadata": {
    "execution": {
     "iopub.execute_input": "2022-11-15T22:59:47.311204Z",
     "iopub.status.busy": "2022-11-15T22:59:47.310250Z",
     "iopub.status.idle": "2022-11-15T22:59:56.225881Z",
     "shell.execute_reply": "2022-11-15T22:59:56.224885Z"
    },
    "papermill": {
     "duration": 8.926031,
     "end_time": "2022-11-15T22:59:56.228567",
     "exception": false,
     "start_time": "2022-11-15T22:59:47.302536",
     "status": "completed"
    },
    "tags": []
   },
   "outputs": [],
   "source": [
    "import pandas as pd\n",
    "import numpy as np\n",
    "from scipy import stats\n",
    "\n",
    "from sklearn.preprocessing import StandardScaler\n",
    "from sklearn.metrics import mean_squared_error\n",
    "from sklearn.svm import SVR\n",
    "\n",
    "import tensorflow as tf\n",
    "import tensorflow_addons as tfa\n",
    "\n",
    "import transformers\n",
    "\n",
    "from transformers import AutoTokenizer, AutoModel\n",
    "from transformers import DataCollatorWithPadding\n",
    "from transformers import logging as hf_logging\n",
    "hf_logging.set_verbosity_error()\n",
    "\n",
    "from datasets import Dataset\n",
    "\n",
    "import os\n",
    "import gc\n",
    "import sys\n",
    "from tqdm.notebook import tqdm"
   ]
  },
  {
   "cell_type": "markdown",
   "id": "5292bc04",
   "metadata": {
    "papermill": {
     "duration": 0.006149,
     "end_time": "2022-11-15T22:59:56.241255",
     "exception": false,
     "start_time": "2022-11-15T22:59:56.235106",
     "status": "completed"
    },
    "tags": []
   },
   "source": [
    "## Set Configs"
   ]
  },
  {
   "cell_type": "code",
   "execution_count": 2,
   "id": "ff6846f9",
   "metadata": {
    "execution": {
     "iopub.execute_input": "2022-11-15T22:59:56.255924Z",
     "iopub.status.busy": "2022-11-15T22:59:56.254599Z",
     "iopub.status.idle": "2022-11-15T22:59:56.260431Z",
     "shell.execute_reply": "2022-11-15T22:59:56.259356Z"
    },
    "papermill": {
     "duration": 0.015541,
     "end_time": "2022-11-15T22:59:56.262597",
     "exception": false,
     "start_time": "2022-11-15T22:59:56.247056",
     "status": "completed"
    },
    "tags": []
   },
   "outputs": [],
   "source": [
    "CONFIG = {\n",
    "        'folds': 5,\n",
    "        'seed': 101,\n",
    "\n",
    "        # Kaggle embeds\n",
    "        'debertav3large_npy': '../input/fb3-save-pretrained-embeddings/debertav3large_FB3.npy',\n",
    "        'distilrobertabase_npy': '../input/fb3-save-pretrained-embeddings/distilrobertabase_FB3.npy',\n",
    "\n",
    "        'debertav3large': '../input/deberta-v3-large/deberta-v3-large/',\n",
    "        'distilrobertabase': '../input/huggingface-roberta-variants/distilroberta-base/distilroberta-base',\n",
    "\n",
    "        'batch_size': 4,\n",
    "        'max_len': 512}"
   ]
  },
  {
   "cell_type": "markdown",
   "id": "177c0749",
   "metadata": {
    "papermill": {
     "duration": 0.007257,
     "end_time": "2022-11-15T22:59:56.276273",
     "exception": false,
     "start_time": "2022-11-15T22:59:56.269016",
     "status": "completed"
    },
    "tags": []
   },
   "source": [
    "## Obtain Data"
   ]
  },
  {
   "cell_type": "code",
   "execution_count": 3,
   "id": "e9d3426b",
   "metadata": {
    "execution": {
     "iopub.execute_input": "2022-11-15T22:59:56.289417Z",
     "iopub.status.busy": "2022-11-15T22:59:56.289048Z",
     "iopub.status.idle": "2022-11-15T22:59:56.512254Z",
     "shell.execute_reply": "2022-11-15T22:59:56.511212Z"
    },
    "papermill": {
     "duration": 0.233408,
     "end_time": "2022-11-15T22:59:56.515690",
     "exception": false,
     "start_time": "2022-11-15T22:59:56.282282",
     "status": "completed"
    },
    "tags": []
   },
   "outputs": [
    {
     "name": "stdout",
     "output_type": "stream",
     "text": [
      "(3911, 8)\n",
      "(3, 2)\n"
     ]
    }
   ],
   "source": [
    "train = pd.read_csv(\"../input/feedback-prize-english-language-learning/train.csv\")\n",
    "test = pd.read_csv(\"../input/feedback-prize-english-language-learning/test.csv\")\n",
    "\n",
    "tgtCols = ['cohesion', 'syntax', 'vocabulary','phraseology', 'grammar', 'conventions']\n",
    "\n",
    "print(train.shape)\n",
    "print(test.shape)"
   ]
  },
  {
   "cell_type": "markdown",
   "id": "f46bfb4e",
   "metadata": {
    "papermill": {
     "duration": 0.006276,
     "end_time": "2022-11-15T22:59:56.529962",
     "exception": false,
     "start_time": "2022-11-15T22:59:56.523686",
     "status": "completed"
    },
    "tags": []
   },
   "source": [
    "## Create Folds"
   ]
  },
  {
   "cell_type": "code",
   "execution_count": 4,
   "id": "29352315",
   "metadata": {
    "execution": {
     "iopub.execute_input": "2022-11-15T22:59:56.543779Z",
     "iopub.status.busy": "2022-11-15T22:59:56.543449Z",
     "iopub.status.idle": "2022-11-15T22:59:56.715936Z",
     "shell.execute_reply": "2022-11-15T22:59:56.714823Z"
    },
    "papermill": {
     "duration": 0.182508,
     "end_time": "2022-11-15T22:59:56.718601",
     "exception": false,
     "start_time": "2022-11-15T22:59:56.536093",
     "status": "completed"
    },
    "tags": []
   },
   "outputs": [],
   "source": [
    "import sys\n",
    "sys.path.append('../input/iterativestratification')\n",
    "from iterstrat.ml_stratifiers import MultilabelStratifiedKFold\n",
    "\n",
    "train[\"kfold\"] = -1\n",
    "\n",
    "mskf = MultilabelStratifiedKFold(n_splits=CONFIG['folds'], shuffle=True, random_state=CONFIG['seed'])\n",
    "data_labels = train[tgtCols].values\n",
    "\n",
    "for f, (t_, v_) in enumerate(mskf.split(train, data_labels)):\n",
    "    train.loc[v_, \"kfold\"] = f + 1"
   ]
  },
  {
   "cell_type": "code",
   "execution_count": 5,
   "id": "c022a9bf",
   "metadata": {
    "execution": {
     "iopub.execute_input": "2022-11-15T22:59:56.734808Z",
     "iopub.status.busy": "2022-11-15T22:59:56.733913Z",
     "iopub.status.idle": "2022-11-15T22:59:56.748333Z",
     "shell.execute_reply": "2022-11-15T22:59:56.747340Z"
    },
    "papermill": {
     "duration": 0.024275,
     "end_time": "2022-11-15T22:59:56.750605",
     "exception": false,
     "start_time": "2022-11-15T22:59:56.726330",
     "status": "completed"
    },
    "tags": []
   },
   "outputs": [
    {
     "data": {
      "text/plain": [
       "1    782\n",
       "2    782\n",
       "3    782\n",
       "4    782\n",
       "5    783\n",
       "Name: kfold, dtype: int64"
      ]
     },
     "execution_count": 5,
     "metadata": {},
     "output_type": "execute_result"
    }
   ],
   "source": [
    "train['kfold'].value_counts().sort_index()"
   ]
  },
  {
   "cell_type": "markdown",
   "id": "5634eb4e",
   "metadata": {
    "papermill": {
     "duration": 0.006861,
     "end_time": "2022-11-15T22:59:56.764117",
     "exception": false,
     "start_time": "2022-11-15T22:59:56.757256",
     "status": "completed"
    },
    "tags": []
   },
   "source": [
    "## Custom functions"
   ]
  },
  {
   "cell_type": "markdown",
   "id": "a88e4563",
   "metadata": {
    "papermill": {
     "duration": 0.005996,
     "end_time": "2022-11-15T22:59:56.776414",
     "exception": false,
     "start_time": "2022-11-15T22:59:56.770418",
     "status": "completed"
    },
    "tags": []
   },
   "source": [
    "### Competition metric"
   ]
  },
  {
   "cell_type": "code",
   "execution_count": 6,
   "id": "dd53e098",
   "metadata": {
    "execution": {
     "iopub.execute_input": "2022-11-15T22:59:56.790223Z",
     "iopub.status.busy": "2022-11-15T22:59:56.789871Z",
     "iopub.status.idle": "2022-11-15T22:59:56.795568Z",
     "shell.execute_reply": "2022-11-15T22:59:56.794488Z"
    },
    "papermill": {
     "duration": 0.01521,
     "end_time": "2022-11-15T22:59:56.797757",
     "exception": false,
     "start_time": "2022-11-15T22:59:56.782547",
     "status": "completed"
    },
    "tags": []
   },
   "outputs": [],
   "source": [
    "def mcrmse(y_true,y_pred):\n",
    "    rmse_scores = []\n",
    "    for i in range(len(tgtCols)):\n",
    "        rmse_scores.append(np.sqrt(mean_squared_error(y_true[:,i],y_pred[:,i])))\n",
    "    return np.mean(rmse_scores)"
   ]
  },
  {
   "cell_type": "markdown",
   "id": "c0be7d11",
   "metadata": {
    "papermill": {
     "duration": 0.006607,
     "end_time": "2022-11-15T22:59:56.810744",
     "exception": false,
     "start_time": "2022-11-15T22:59:56.804137",
     "status": "completed"
    },
    "tags": []
   },
   "source": [
    "### Data process functions"
   ]
  },
  {
   "cell_type": "code",
   "execution_count": 7,
   "id": "d7f322d9",
   "metadata": {
    "execution": {
     "iopub.execute_input": "2022-11-15T22:59:56.826074Z",
     "iopub.status.busy": "2022-11-15T22:59:56.824555Z",
     "iopub.status.idle": "2022-11-15T22:59:56.832084Z",
     "shell.execute_reply": "2022-11-15T22:59:56.831193Z"
    },
    "papermill": {
     "duration": 0.017306,
     "end_time": "2022-11-15T22:59:56.834216",
     "exception": false,
     "start_time": "2022-11-15T22:59:56.816910",
     "status": "completed"
    },
    "tags": []
   },
   "outputs": [],
   "source": [
    "def hf_encode(texts, chkpt):\n",
    "    \n",
    "    tokenizer = transformers.AutoTokenizer.from_pretrained(CONFIG[chkpt])\n",
    "    tokenizer.save_pretrained('./tokenizer/')\n",
    "\n",
    "    input_ids = []\n",
    "    attention_mask = []\n",
    "    \n",
    "    for text in texts.tolist():\n",
    "        token = tokenizer(text, \n",
    "                          add_special_tokens=True, \n",
    "                          max_length=CONFIG['max_len'], \n",
    "                          return_attention_mask=True, \n",
    "                          return_tensors=\"np\", \n",
    "                          truncation=True, \n",
    "                          padding='max_length')\n",
    "        input_ids.append(token['input_ids'][0])\n",
    "        attention_mask.append(token['attention_mask'][0])\n",
    "    \n",
    "    return np.array(input_ids, dtype=\"int32\"), np.array(attention_mask, dtype=\"int32\")"
   ]
  },
  {
   "cell_type": "code",
   "execution_count": 8,
   "id": "33c3e166",
   "metadata": {
    "execution": {
     "iopub.execute_input": "2022-11-15T22:59:56.850342Z",
     "iopub.status.busy": "2022-11-15T22:59:56.848444Z",
     "iopub.status.idle": "2022-11-15T22:59:56.854425Z",
     "shell.execute_reply": "2022-11-15T22:59:56.853496Z"
    },
    "papermill": {
     "duration": 0.015685,
     "end_time": "2022-11-15T22:59:56.856487",
     "exception": false,
     "start_time": "2022-11-15T22:59:56.840802",
     "status": "completed"
    },
    "tags": []
   },
   "outputs": [],
   "source": [
    "def get_dataset(df):\n",
    "    inputs = hf_encode(df['full_text'])\n",
    "    targets = np.array(df[tgtCols], dtype=\"float32\")\n",
    "    return inputs, targets"
   ]
  },
  {
   "cell_type": "code",
   "execution_count": 9,
   "id": "45ccc05c",
   "metadata": {
    "execution": {
     "iopub.execute_input": "2022-11-15T22:59:56.870392Z",
     "iopub.status.busy": "2022-11-15T22:59:56.870056Z",
     "iopub.status.idle": "2022-11-15T22:59:56.875190Z",
     "shell.execute_reply": "2022-11-15T22:59:56.874202Z"
    },
    "papermill": {
     "duration": 0.014357,
     "end_time": "2022-11-15T22:59:56.877206",
     "exception": false,
     "start_time": "2022-11-15T22:59:56.862849",
     "status": "completed"
    },
    "tags": []
   },
   "outputs": [],
   "source": [
    "def pickle_dump(path, saveobj):\n",
    "    import pickle\n",
    "    filehandler = open(path,\"wb\")\n",
    "    pickle.dump(saveobj,filehandler)\n",
    "#     print(\"File pickled\")\n",
    "    filehandler.close()"
   ]
  },
  {
   "cell_type": "code",
   "execution_count": 10,
   "id": "f1059efc",
   "metadata": {
    "execution": {
     "iopub.execute_input": "2022-11-15T22:59:56.892880Z",
     "iopub.status.busy": "2022-11-15T22:59:56.891191Z",
     "iopub.status.idle": "2022-11-15T22:59:56.896795Z",
     "shell.execute_reply": "2022-11-15T22:59:56.895957Z"
    },
    "papermill": {
     "duration": 0.014962,
     "end_time": "2022-11-15T22:59:56.898745",
     "exception": false,
     "start_time": "2022-11-15T22:59:56.883783",
     "status": "completed"
    },
    "tags": []
   },
   "outputs": [],
   "source": [
    "def pickle_load(path):\n",
    "    import pickle\n",
    "    file = open(path,'rb')\n",
    "    loadobj = pickle.load(file)\n",
    "    file.close()\n",
    "    return loadobj"
   ]
  },
  {
   "cell_type": "markdown",
   "id": "81ccfed9",
   "metadata": {
    "papermill": {
     "duration": 0.00633,
     "end_time": "2022-11-15T22:59:56.911342",
     "exception": false,
     "start_time": "2022-11-15T22:59:56.905012",
     "status": "completed"
    },
    "tags": []
   },
   "source": [
    "### Transformer embeddings"
   ]
  },
  {
   "cell_type": "code",
   "execution_count": 11,
   "id": "d209fb21",
   "metadata": {
    "execution": {
     "iopub.execute_input": "2022-11-15T22:59:56.925459Z",
     "iopub.status.busy": "2022-11-15T22:59:56.925175Z",
     "iopub.status.idle": "2022-11-15T22:59:56.931115Z",
     "shell.execute_reply": "2022-11-15T22:59:56.930092Z"
    },
    "papermill": {
     "duration": 0.015778,
     "end_time": "2022-11-15T22:59:56.933209",
     "exception": false,
     "start_time": "2022-11-15T22:59:56.917431",
     "status": "completed"
    },
    "tags": []
   },
   "outputs": [],
   "source": [
    "class MeanPool(tf.keras.layers.Layer):\n",
    "    def call(self, inputs, mask=None):\n",
    "        broadcast_mask = tf.expand_dims(tf.cast(mask, \"float32\"), -1)\n",
    "        embedding_sum = tf.reduce_sum(inputs * broadcast_mask, axis=1)\n",
    "        mask_sum = tf.reduce_sum(broadcast_mask, axis=1)\n",
    "        mask_sum = tf.math.maximum(mask_sum, tf.constant([1e-9]))\n",
    "        return embedding_sum / mask_sum"
   ]
  },
  {
   "cell_type": "code",
   "execution_count": 12,
   "id": "1c3cf466",
   "metadata": {
    "execution": {
     "iopub.execute_input": "2022-11-15T22:59:56.947739Z",
     "iopub.status.busy": "2022-11-15T22:59:56.946920Z",
     "iopub.status.idle": "2022-11-15T22:59:56.957321Z",
     "shell.execute_reply": "2022-11-15T22:59:56.956488Z"
    },
    "papermill": {
     "duration": 0.019902,
     "end_time": "2022-11-15T22:59:56.959314",
     "exception": false,
     "start_time": "2022-11-15T22:59:56.939412",
     "status": "completed"
    },
    "tags": []
   },
   "outputs": [],
   "source": [
    "def get_model(chkpt):\n",
    "    \n",
    "    cfg = transformers.AutoConfig.from_pretrained(CONFIG[chkpt], output_hidden_states=True)\n",
    "    cfg.hidden_dropout_prob = 0\n",
    "    cfg.attention_probs_dropout_prob = 0\n",
    "    cfg.save_pretrained('./tokenizer/')\n",
    "    \n",
    "    input_ids = tf.keras.layers.Input(\n",
    "        shape=(CONFIG['max_len'],), dtype=tf.int32, name=\"input_ids\"\n",
    "    )\n",
    "    \n",
    "    attention_masks = tf.keras.layers.Input(\n",
    "        shape=(CONFIG['max_len'],), dtype=tf.int32, name=\"attention_masks\"\n",
    "    )\n",
    "    \n",
    "    try:\n",
    "        model = transformers.TFAutoModel.from_pretrained(CONFIG[chkpt], config=cfg)\n",
    "    except:\n",
    "        model = transformers.TFAutoModel.from_pretrained(CONFIG[chkpt], config=cfg, from_pt=True)\n",
    "        \n",
    "    output = model(\n",
    "        input_ids, attention_mask=attention_masks\n",
    "    )\n",
    "    hidden_states = output.hidden_states\n",
    "    \n",
    "    output = tf.stack(\n",
    "        [MeanPool()(hidden_s, mask=attention_masks) for hidden_s in hidden_states[-1:]], \n",
    "        axis=2)\n",
    "    \n",
    "    output = tf.squeeze(output, axis=-1)\n",
    "    \n",
    "    model = tf.keras.Model(inputs=[input_ids, attention_masks], outputs=output)\n",
    "\n",
    "    model.compile(optimizer=\"adam\",\n",
    "                 loss='huber_loss',\n",
    "                 metrics=[tf.keras.metrics.RootMeanSquaredError()],\n",
    "                 )\n",
    "    \n",
    "    return model"
   ]
  },
  {
   "cell_type": "code",
   "execution_count": 13,
   "id": "43f86c03",
   "metadata": {
    "execution": {
     "iopub.execute_input": "2022-11-15T22:59:56.974170Z",
     "iopub.status.busy": "2022-11-15T22:59:56.972605Z",
     "iopub.status.idle": "2022-11-15T22:59:56.978412Z",
     "shell.execute_reply": "2022-11-15T22:59:56.977447Z"
    },
    "papermill": {
     "duration": 0.015386,
     "end_time": "2022-11-15T22:59:56.980708",
     "exception": false,
     "start_time": "2022-11-15T22:59:56.965322",
     "status": "completed"
    },
    "tags": []
   },
   "outputs": [],
   "source": [
    "def pretrain_embeddings(chkpt, df):\n",
    "    \n",
    "    model = get_model(chkpt)\n",
    "    dataset = hf_encode(df['full_text'], chkpt)\n",
    "    preds = model.predict(dataset, batch_size=CONFIG['batch_size'])\n",
    "    \n",
    "    del model, dataset\n",
    "    _ = gc.collect()\n",
    "    \n",
    "    return preds"
   ]
  },
  {
   "cell_type": "markdown",
   "id": "86555d94",
   "metadata": {
    "papermill": {
     "duration": 0.006393,
     "end_time": "2022-11-15T22:59:56.993211",
     "exception": false,
     "start_time": "2022-11-15T22:59:56.986818",
     "status": "completed"
    },
    "tags": []
   },
   "source": [
    "## Model Training"
   ]
  },
  {
   "cell_type": "code",
   "execution_count": 14,
   "id": "08c8f385",
   "metadata": {
    "execution": {
     "iopub.execute_input": "2022-11-15T22:59:57.007655Z",
     "iopub.status.busy": "2022-11-15T22:59:57.006758Z",
     "iopub.status.idle": "2022-11-15T22:59:57.558178Z",
     "shell.execute_reply": "2022-11-15T22:59:57.557199Z"
    },
    "papermill": {
     "duration": 0.561511,
     "end_time": "2022-11-15T22:59:57.560729",
     "exception": false,
     "start_time": "2022-11-15T22:59:56.999218",
     "status": "completed"
    },
    "tags": []
   },
   "outputs": [
    {
     "data": {
      "text/plain": [
       "(3911, 1792)"
      ]
     },
     "execution_count": 14,
     "metadata": {},
     "output_type": "execute_result"
    }
   ],
   "source": [
    "train_dataset = np.load(CONFIG['debertav3large_npy'])\n",
    "train_dataset = np.concatenate([train_dataset, np.load(CONFIG['distilrobertabase_npy'])], axis=1)\n",
    "\n",
    "train_dataset.shape"
   ]
  },
  {
   "cell_type": "code",
   "execution_count": 15,
   "id": "36b4fb26",
   "metadata": {
    "execution": {
     "iopub.execute_input": "2022-11-15T22:59:57.577443Z",
     "iopub.status.busy": "2022-11-15T22:59:57.575609Z",
     "iopub.status.idle": "2022-11-15T23:05:02.038856Z",
     "shell.execute_reply": "2022-11-15T23:05:02.037657Z"
    },
    "papermill": {
     "duration": 304.481776,
     "end_time": "2022-11-15T23:05:02.049428",
     "exception": false,
     "start_time": "2022-11-15T22:59:57.567652",
     "status": "completed"
    },
    "tags": []
   },
   "outputs": [
    {
     "name": "stdout",
     "output_type": "stream",
     "text": [
      "#########################\n",
      "## Fold 1\n",
      "#########################\n",
      "cohesion , syntax , vocabulary , phraseology , grammar , conventions , Fold : 1 RSME score: 0.4574948104976467\n",
      "#########################\n",
      "Overall CV RSME = 0.4574948104976467\n",
      "#########################\n",
      "## Fold 2\n",
      "#########################\n",
      "cohesion , syntax , vocabulary , phraseology , grammar , conventions , Fold : 2 RSME score: 0.4532811299221495\n",
      "#########################\n",
      "Overall CV RSME = 0.4553879702098981\n",
      "#########################\n",
      "## Fold 3\n",
      "#########################\n",
      "cohesion , syntax , vocabulary , phraseology , grammar , conventions , Fold : 3 RSME score: 0.45189874801482954\n",
      "#########################\n",
      "Overall CV RSME = 0.4542248961448752\n",
      "#########################\n",
      "## Fold 4\n",
      "#########################\n",
      "cohesion , syntax , vocabulary , phraseology , grammar , conventions , Fold : 4 RSME score: 0.45774089350253444\n",
      "#########################\n",
      "Overall CV RSME = 0.45510389548429003\n"
     ]
    }
   ],
   "source": [
    "scores = []\n",
    "\n",
    "for fold in range(1,CONFIG['folds']):\n",
    "\n",
    "    print('#'*25)\n",
    "    print(f'## Fold {fold}')\n",
    "    print('#'*25)\n",
    "\n",
    "    trn_idx = train[train['kfold']!=fold].index.values\n",
    "    val_idx = train[train['kfold']==fold].index.values\n",
    "\n",
    "    X_train = train_dataset[trn_idx,:]\n",
    "    X_valid = train_dataset[val_idx,:]\n",
    "\n",
    "    y_train = train[train['kfold']!=fold][tgtCols].copy()\n",
    "    y_valid = train[train['kfold']==fold][tgtCols].copy()\n",
    "\n",
    "    val_preds = np.zeros((len(val_idx),6))\n",
    "\n",
    "    for i, tgt in enumerate(tgtCols):\n",
    "\n",
    "        print(tgt,', ',end='')\n",
    "        clf = SVR(C=1)\n",
    "        clf.fit(X_train, y_train[tgt].values)\n",
    "        pickle_dump(f\"./SVR_tgt{tgt}_fold{fold}.pkl\", clf)\n",
    "        val_preds[:,i] = clf.predict(X_valid)\n",
    "\n",
    "    score = mcrmse(y_valid[tgtCols].values, val_preds)\n",
    "    scores.append(score)\n",
    "    print(\"Fold : {} RSME score: {}\".format(fold,score))\n",
    "\n",
    "    print('#'*25)\n",
    "    print('Overall CV RSME =',np.mean(scores))"
   ]
  },
  {
   "cell_type": "code",
   "execution_count": 16,
   "id": "3fb07056",
   "metadata": {
    "execution": {
     "iopub.execute_input": "2022-11-15T23:05:02.066316Z",
     "iopub.status.busy": "2022-11-15T23:05:02.065976Z",
     "iopub.status.idle": "2022-11-15T23:05:02.264093Z",
     "shell.execute_reply": "2022-11-15T23:05:02.263277Z"
    },
    "papermill": {
     "duration": 0.209356,
     "end_time": "2022-11-15T23:05:02.266455",
     "exception": false,
     "start_time": "2022-11-15T23:05:02.057099",
     "status": "completed"
    },
    "tags": []
   },
   "outputs": [],
   "source": [
    "del train_dataset\n",
    "_ = gc.collect()"
   ]
  },
  {
   "cell_type": "markdown",
   "id": "8840765d",
   "metadata": {
    "papermill": {
     "duration": 0.007436,
     "end_time": "2022-11-15T23:05:02.282125",
     "exception": false,
     "start_time": "2022-11-15T23:05:02.274689",
     "status": "completed"
    },
    "tags": []
   },
   "source": [
    "## Model Inference"
   ]
  },
  {
   "cell_type": "code",
   "execution_count": null,
   "id": "528151fd",
   "metadata": {
    "execution": {
     "iopub.execute_input": "2022-11-15T23:05:02.298885Z",
     "iopub.status.busy": "2022-11-15T23:05:02.298575Z",
     "iopub.status.idle": "2022-11-15T23:06:12.372076Z",
     "shell.execute_reply": "2022-11-15T23:06:12.371029Z"
    },
    "papermill": {
     "duration": 70.084412,
     "end_time": "2022-11-15T23:06:12.374213",
     "exception": false,
     "start_time": "2022-11-15T23:05:02.289801",
     "status": "completed"
    },
    "tags": []
   },
   "outputs": [],
   "source": [
    "test_dataset = pretrain_embeddings('debertav3large', test)\n",
    "test_dataset = np.concatenate([test_dataset, pretrain_embeddings('distilrobertabase', test)], axis=1)\n",
    "\n",
    "test_dataset.shape"
   ]
  },
  {
   "cell_type": "code",
   "execution_count": 18,
   "id": "cb91f611",
   "metadata": {
    "execution": {
     "iopub.execute_input": "2022-11-15T23:06:12.392553Z",
     "iopub.status.busy": "2022-11-15T23:06:12.391989Z",
     "iopub.status.idle": "2022-11-15T23:06:14.234518Z",
     "shell.execute_reply": "2022-11-15T23:06:14.233518Z"
    },
    "papermill": {
     "duration": 1.854317,
     "end_time": "2022-11-15T23:06:14.236772",
     "exception": false,
     "start_time": "2022-11-15T23:06:12.382455",
     "status": "completed"
    },
    "tags": []
   },
   "outputs": [
    {
     "name": "stdout",
     "output_type": "stream",
     "text": [
      "#########################\n",
      "## Fold 1\n",
      "#########################\n",
      "cohesion , syntax , vocabulary , phraseology , grammar , conventions , #########################\n",
      "## Fold 2\n",
      "#########################\n",
      "cohesion , syntax , vocabulary , phraseology , grammar , conventions , #########################\n",
      "## Fold 3\n",
      "#########################\n",
      "cohesion , syntax , vocabulary , phraseology , grammar , conventions , #########################\n",
      "## Fold 4\n",
      "#########################\n",
      "cohesion , syntax , vocabulary , phraseology , grammar , conventions , "
     ]
    }
   ],
   "source": [
    "fold_preds = []\n",
    "\n",
    "for fold in range(1,CONFIG['folds']):\n",
    "\n",
    "    print('#'*25)\n",
    "    print(f'## Fold {fold}')\n",
    "    print('#'*25)\n",
    "    \n",
    "    test_preds = np.zeros((len(test_dataset),6))\n",
    "    for i, tgt in enumerate(tgtCols):\n",
    "\n",
    "        print(tgt,', ',end='')\n",
    "        model = pickle_load(f\"./SVR_tgt{tgt}_fold{fold}.pkl\")\n",
    "        test_preds[:,i] = model.predict(test_dataset)\n",
    "    \n",
    "    fold_preds.append(test_preds)\n",
    "    \n",
    "    del model\n",
    "    _ = gc.collect()"
   ]
  },
  {
   "cell_type": "code",
   "execution_count": 19,
   "id": "90b85716",
   "metadata": {
    "execution": {
     "iopub.execute_input": "2022-11-15T23:06:14.256255Z",
     "iopub.status.busy": "2022-11-15T23:06:14.254753Z",
     "iopub.status.idle": "2022-11-15T23:06:14.261112Z",
     "shell.execute_reply": "2022-11-15T23:06:14.260185Z"
    },
    "papermill": {
     "duration": 0.018151,
     "end_time": "2022-11-15T23:06:14.263403",
     "exception": false,
     "start_time": "2022-11-15T23:06:14.245252",
     "status": "completed"
    },
    "tags": []
   },
   "outputs": [],
   "source": [
    "preds = np.mean(fold_preds, axis=0)\n",
    "preds = np.clip(preds, 1, 5)"
   ]
  },
  {
   "cell_type": "code",
   "execution_count": 20,
   "id": "594334b5",
   "metadata": {
    "execution": {
     "iopub.execute_input": "2022-11-15T23:06:14.282474Z",
     "iopub.status.busy": "2022-11-15T23:06:14.282180Z",
     "iopub.status.idle": "2022-11-15T23:06:14.291834Z",
     "shell.execute_reply": "2022-11-15T23:06:14.290919Z"
    },
    "papermill": {
     "duration": 0.021498,
     "end_time": "2022-11-15T23:06:14.294045",
     "exception": false,
     "start_time": "2022-11-15T23:06:14.272547",
     "status": "completed"
    },
    "tags": []
   },
   "outputs": [],
   "source": [
    "sub_df = pd.concat([test[['text_id']], pd.DataFrame(preds, columns=tgtCols)], axis=1)\n",
    "sub_df.to_csv('submission.csv', index=False)"
   ]
  },
  {
   "cell_type": "code",
   "execution_count": 21,
   "id": "7fe0e31c",
   "metadata": {
    "execution": {
     "iopub.execute_input": "2022-11-15T23:06:14.313384Z",
     "iopub.status.busy": "2022-11-15T23:06:14.313032Z",
     "iopub.status.idle": "2022-11-15T23:06:14.331082Z",
     "shell.execute_reply": "2022-11-15T23:06:14.330201Z"
    },
    "papermill": {
     "duration": 0.030413,
     "end_time": "2022-11-15T23:06:14.333683",
     "exception": false,
     "start_time": "2022-11-15T23:06:14.303270",
     "status": "completed"
    },
    "tags": []
   },
   "outputs": [
    {
     "data": {
      "text/html": [
       "<div>\n",
       "<style scoped>\n",
       "    .dataframe tbody tr th:only-of-type {\n",
       "        vertical-align: middle;\n",
       "    }\n",
       "\n",
       "    .dataframe tbody tr th {\n",
       "        vertical-align: top;\n",
       "    }\n",
       "\n",
       "    .dataframe thead th {\n",
       "        text-align: right;\n",
       "    }\n",
       "</style>\n",
       "<table border=\"1\" class=\"dataframe\">\n",
       "  <thead>\n",
       "    <tr style=\"text-align: right;\">\n",
       "      <th></th>\n",
       "      <th>text_id</th>\n",
       "      <th>cohesion</th>\n",
       "      <th>syntax</th>\n",
       "      <th>vocabulary</th>\n",
       "      <th>phraseology</th>\n",
       "      <th>grammar</th>\n",
       "      <th>conventions</th>\n",
       "    </tr>\n",
       "  </thead>\n",
       "  <tbody>\n",
       "    <tr>\n",
       "      <th>0</th>\n",
       "      <td>0000C359D63E</td>\n",
       "      <td>2.964720</td>\n",
       "      <td>2.777844</td>\n",
       "      <td>3.095375</td>\n",
       "      <td>2.986499</td>\n",
       "      <td>2.722708</td>\n",
       "      <td>2.646358</td>\n",
       "    </tr>\n",
       "    <tr>\n",
       "      <th>1</th>\n",
       "      <td>000BAD50D026</td>\n",
       "      <td>2.589157</td>\n",
       "      <td>2.395107</td>\n",
       "      <td>2.672813</td>\n",
       "      <td>2.292683</td>\n",
       "      <td>2.015081</td>\n",
       "      <td>2.550648</td>\n",
       "    </tr>\n",
       "    <tr>\n",
       "      <th>2</th>\n",
       "      <td>00367BB2546B</td>\n",
       "      <td>3.499556</td>\n",
       "      <td>3.379709</td>\n",
       "      <td>3.526141</td>\n",
       "      <td>3.585186</td>\n",
       "      <td>3.359600</td>\n",
       "      <td>3.288330</td>\n",
       "    </tr>\n",
       "  </tbody>\n",
       "</table>\n",
       "</div>"
      ],
      "text/plain": [
       "        text_id  cohesion    syntax  vocabulary  phraseology   grammar  \\\n",
       "0  0000C359D63E  2.964720  2.777844    3.095375     2.986499  2.722708   \n",
       "1  000BAD50D026  2.589157  2.395107    2.672813     2.292683  2.015081   \n",
       "2  00367BB2546B  3.499556  3.379709    3.526141     3.585186  3.359600   \n",
       "\n",
       "   conventions  \n",
       "0     2.646358  \n",
       "1     2.550648  \n",
       "2     3.288330  "
      ]
     },
     "execution_count": 21,
     "metadata": {},
     "output_type": "execute_result"
    }
   ],
   "source": [
    "sub_df.head()"
   ]
  }
 ],
 "metadata": {
  "kernelspec": {
   "display_name": "Python 3.8.3",
   "language": "python",
   "name": "python3"
  },
  "language_info": {
   "codemirror_mode": {
    "name": "ipython",
    "version": 3
   },
   "file_extension": ".py",
   "mimetype": "text/x-python",
   "name": "python",
   "nbconvert_exporter": "python",
   "pygments_lexer": "ipython3",
   "version": "3.8.3"
  },
  "papermill": {
   "default_parameters": {},
   "duration": 399.703066,
   "end_time": "2022-11-15T23:06:18.259896",
   "environment_variables": {},
   "exception": null,
   "input_path": "__notebook__.ipynb",
   "output_path": "__notebook__.ipynb",
   "parameters": {},
   "start_time": "2022-11-15T22:59:38.556830",
   "version": "2.3.4"
  },
  "vscode": {
   "interpreter": {
    "hash": "c710fb56eb8a424639b774445b68a089fceea3db132060601e1ae5682d789ba1"
   }
  }
 },
 "nbformat": 4,
 "nbformat_minor": 5
}
